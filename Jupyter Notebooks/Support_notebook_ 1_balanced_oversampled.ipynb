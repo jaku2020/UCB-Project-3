{
 "cells": [
  {
   "cell_type": "markdown",
   "metadata": {},
   "source": [
    "# Practical Application III: Comparing Classifiers\n",
    "\n",
    "**Overview**: In this practical application, your goal is to compare the performance of the classifiers we encountered in this section, namely K Nearest Neighbor, Logistic Regression, Decision Trees, and Support Vector Machines.  We will utilize a dataset related to marketing bank products over the telephone.  \n",
    "\n"
   ]
  },
  {
   "cell_type": "markdown",
   "metadata": {},
   "source": [
    "### Getting Started\n",
    "\n",
    "Our dataset comes from the UCI Machine Learning repository [link](https://archive.ics.uci.edu/ml/datasets/bank+marketing).  The data is from a Portugese banking institution and is a collection of the results of multiple marketing campaigns.  We will make use of the article accompanying the dataset [here](CRISP-DM-BANK.pdf) for more information on the data and features.\n",
    "\n"
   ]
  },
  {
   "cell_type": "markdown",
   "metadata": {},
   "source": [
    "### Problem 1: Understanding the Data\n",
    "\n",
    "To gain a better understanding of the data, please read the information provided in the UCI link above, and examine the **Materials and Methods** section of the paper.  How many marketing campaigns does this data represent?"
   ]
  },
  {
   "cell_type": "code",
   "execution_count": 1,
   "metadata": {},
   "outputs": [],
   "source": [
    "# This data represents 17 campaigns that occurred between May 2008 and November 2010, corresponding to a total of \n",
    "# 79354 contacts."
   ]
  },
  {
   "cell_type": "markdown",
   "metadata": {},
   "source": [
    "### Problem 2: Read in the Data\n",
    "\n",
    "Use pandas to read in the dataset `bank-additional-full.csv` and assign to a meaningful variable name."
   ]
  },
  {
   "cell_type": "code",
   "execution_count": 2,
   "metadata": {},
   "outputs": [],
   "source": [
    "import pandas as pd\n",
    "from sklearn.model_selection import GridSearchCV\n",
    "from sklearn.model_selection import train_test_split\n",
    "import time\n",
    "from sklearn.preprocessing import StandardScaler, OrdinalEncoder\n",
    "import matplotlib.pyplot as plt\n",
    "from sklearn.metrics import accuracy_score\n",
    "from sklearn.preprocessing import PolynomialFeatures\n",
    "from sklearn.model_selection import cross_val_predict\n",
    "import seaborn as sns\n",
    "from scipy.stats import shapiro\n",
    "from sklearn.preprocessing import MinMaxScaler, StandardScaler\n",
    "import warnings\n",
    "from sklearn.exceptions import ConvergenceWarning\n",
    "from sklearn.metrics import roc_curve, auc, precision_score, recall_score, f1_score, confusion_matrix, roc_auc_score\n",
    "from sklearn.model_selection import cross_val_score, StratifiedKFold\n",
    "from sklearn.neighbors import KNeighborsClassifier\n",
    "from sklearn.linear_model import LogisticRegression\n",
    "from sklearn.tree import DecisionTreeClassifier\n",
    "from sklearn.svm import SVC\n",
    "from mpl_toolkits.axes_grid1 import make_axes_locatable\n",
    "warnings.filterwarnings('ignore', category=RuntimeWarning)\n",
    "warnings.filterwarnings('ignore', category=ConvergenceWarning)\n",
    "import numpy as np\n",
    "import matplotlib as mpl\n",
    "from imblearn.over_sampling import RandomOverSampler"
   ]
  },
  {
   "cell_type": "code",
   "execution_count": 3,
   "metadata": {},
   "outputs": [],
   "source": [
    "df = pd.read_csv('/Users/chameleonjj/Downloads/module_17_starter/data/bank-additional-full.csv', sep = ';')"
   ]
  },
  {
   "cell_type": "code",
   "execution_count": 4,
   "metadata": {},
   "outputs": [
    {
     "data": {
      "text/html": [
       "<div>\n",
       "<style scoped>\n",
       "    .dataframe tbody tr th:only-of-type {\n",
       "        vertical-align: middle;\n",
       "    }\n",
       "\n",
       "    .dataframe tbody tr th {\n",
       "        vertical-align: top;\n",
       "    }\n",
       "\n",
       "    .dataframe thead th {\n",
       "        text-align: right;\n",
       "    }\n",
       "</style>\n",
       "<table border=\"1\" class=\"dataframe\">\n",
       "  <thead>\n",
       "    <tr style=\"text-align: right;\">\n",
       "      <th></th>\n",
       "      <th>age</th>\n",
       "      <th>job</th>\n",
       "      <th>marital</th>\n",
       "      <th>education</th>\n",
       "      <th>default</th>\n",
       "      <th>housing</th>\n",
       "      <th>loan</th>\n",
       "      <th>contact</th>\n",
       "      <th>month</th>\n",
       "      <th>day_of_week</th>\n",
       "      <th>...</th>\n",
       "      <th>campaign</th>\n",
       "      <th>pdays</th>\n",
       "      <th>previous</th>\n",
       "      <th>poutcome</th>\n",
       "      <th>emp.var.rate</th>\n",
       "      <th>cons.price.idx</th>\n",
       "      <th>cons.conf.idx</th>\n",
       "      <th>euribor3m</th>\n",
       "      <th>nr.employed</th>\n",
       "      <th>y</th>\n",
       "    </tr>\n",
       "  </thead>\n",
       "  <tbody>\n",
       "    <tr>\n",
       "      <th>0</th>\n",
       "      <td>56</td>\n",
       "      <td>housemaid</td>\n",
       "      <td>married</td>\n",
       "      <td>basic.4y</td>\n",
       "      <td>no</td>\n",
       "      <td>no</td>\n",
       "      <td>no</td>\n",
       "      <td>telephone</td>\n",
       "      <td>may</td>\n",
       "      <td>mon</td>\n",
       "      <td>...</td>\n",
       "      <td>1</td>\n",
       "      <td>999</td>\n",
       "      <td>0</td>\n",
       "      <td>nonexistent</td>\n",
       "      <td>1.1</td>\n",
       "      <td>93.994</td>\n",
       "      <td>-36.4</td>\n",
       "      <td>4.857</td>\n",
       "      <td>5191.0</td>\n",
       "      <td>no</td>\n",
       "    </tr>\n",
       "    <tr>\n",
       "      <th>1</th>\n",
       "      <td>57</td>\n",
       "      <td>services</td>\n",
       "      <td>married</td>\n",
       "      <td>high.school</td>\n",
       "      <td>unknown</td>\n",
       "      <td>no</td>\n",
       "      <td>no</td>\n",
       "      <td>telephone</td>\n",
       "      <td>may</td>\n",
       "      <td>mon</td>\n",
       "      <td>...</td>\n",
       "      <td>1</td>\n",
       "      <td>999</td>\n",
       "      <td>0</td>\n",
       "      <td>nonexistent</td>\n",
       "      <td>1.1</td>\n",
       "      <td>93.994</td>\n",
       "      <td>-36.4</td>\n",
       "      <td>4.857</td>\n",
       "      <td>5191.0</td>\n",
       "      <td>no</td>\n",
       "    </tr>\n",
       "    <tr>\n",
       "      <th>2</th>\n",
       "      <td>37</td>\n",
       "      <td>services</td>\n",
       "      <td>married</td>\n",
       "      <td>high.school</td>\n",
       "      <td>no</td>\n",
       "      <td>yes</td>\n",
       "      <td>no</td>\n",
       "      <td>telephone</td>\n",
       "      <td>may</td>\n",
       "      <td>mon</td>\n",
       "      <td>...</td>\n",
       "      <td>1</td>\n",
       "      <td>999</td>\n",
       "      <td>0</td>\n",
       "      <td>nonexistent</td>\n",
       "      <td>1.1</td>\n",
       "      <td>93.994</td>\n",
       "      <td>-36.4</td>\n",
       "      <td>4.857</td>\n",
       "      <td>5191.0</td>\n",
       "      <td>no</td>\n",
       "    </tr>\n",
       "    <tr>\n",
       "      <th>3</th>\n",
       "      <td>40</td>\n",
       "      <td>admin.</td>\n",
       "      <td>married</td>\n",
       "      <td>basic.6y</td>\n",
       "      <td>no</td>\n",
       "      <td>no</td>\n",
       "      <td>no</td>\n",
       "      <td>telephone</td>\n",
       "      <td>may</td>\n",
       "      <td>mon</td>\n",
       "      <td>...</td>\n",
       "      <td>1</td>\n",
       "      <td>999</td>\n",
       "      <td>0</td>\n",
       "      <td>nonexistent</td>\n",
       "      <td>1.1</td>\n",
       "      <td>93.994</td>\n",
       "      <td>-36.4</td>\n",
       "      <td>4.857</td>\n",
       "      <td>5191.0</td>\n",
       "      <td>no</td>\n",
       "    </tr>\n",
       "    <tr>\n",
       "      <th>4</th>\n",
       "      <td>56</td>\n",
       "      <td>services</td>\n",
       "      <td>married</td>\n",
       "      <td>high.school</td>\n",
       "      <td>no</td>\n",
       "      <td>no</td>\n",
       "      <td>yes</td>\n",
       "      <td>telephone</td>\n",
       "      <td>may</td>\n",
       "      <td>mon</td>\n",
       "      <td>...</td>\n",
       "      <td>1</td>\n",
       "      <td>999</td>\n",
       "      <td>0</td>\n",
       "      <td>nonexistent</td>\n",
       "      <td>1.1</td>\n",
       "      <td>93.994</td>\n",
       "      <td>-36.4</td>\n",
       "      <td>4.857</td>\n",
       "      <td>5191.0</td>\n",
       "      <td>no</td>\n",
       "    </tr>\n",
       "  </tbody>\n",
       "</table>\n",
       "<p>5 rows × 21 columns</p>\n",
       "</div>"
      ],
      "text/plain": [
       "   age        job  marital    education  default housing loan    contact  \\\n",
       "0   56  housemaid  married     basic.4y       no      no   no  telephone   \n",
       "1   57   services  married  high.school  unknown      no   no  telephone   \n",
       "2   37   services  married  high.school       no     yes   no  telephone   \n",
       "3   40     admin.  married     basic.6y       no      no   no  telephone   \n",
       "4   56   services  married  high.school       no      no  yes  telephone   \n",
       "\n",
       "  month day_of_week  ...  campaign  pdays  previous     poutcome emp.var.rate  \\\n",
       "0   may         mon  ...         1    999         0  nonexistent          1.1   \n",
       "1   may         mon  ...         1    999         0  nonexistent          1.1   \n",
       "2   may         mon  ...         1    999         0  nonexistent          1.1   \n",
       "3   may         mon  ...         1    999         0  nonexistent          1.1   \n",
       "4   may         mon  ...         1    999         0  nonexistent          1.1   \n",
       "\n",
       "   cons.price.idx  cons.conf.idx  euribor3m  nr.employed   y  \n",
       "0          93.994          -36.4      4.857       5191.0  no  \n",
       "1          93.994          -36.4      4.857       5191.0  no  \n",
       "2          93.994          -36.4      4.857       5191.0  no  \n",
       "3          93.994          -36.4      4.857       5191.0  no  \n",
       "4          93.994          -36.4      4.857       5191.0  no  \n",
       "\n",
       "[5 rows x 21 columns]"
      ]
     },
     "execution_count": 4,
     "metadata": {},
     "output_type": "execute_result"
    }
   ],
   "source": [
    "df.head()"
   ]
  },
  {
   "cell_type": "markdown",
   "metadata": {},
   "source": [
    "### Problem 3: Understanding the Features\n",
    "\n",
    "\n",
    "Examine the data description below, and determine if any of the features are missing values or need to be coerced to a different data type.\n",
    "\n",
    "\n",
    "```\n",
    "Input variables:\n",
    "# bank client data:\n",
    "1 - age (numeric)\n",
    "2 - job : type of job (categorical: 'admin.','blue-collar','entrepreneur','housemaid','management','retired','self-employed','services','student','technician','unemployed','unknown')\n",
    "3 - marital : marital status (categorical: 'divorced','married','single','unknown'; note: 'divorced' means divorced or widowed)\n",
    "4 - education (categorical: 'basic.4y','basic.6y','basic.9y','high.school','illiterate','professional.course','university.degree','unknown')\n",
    "5 - default: has credit in default? (categorical: 'no','yes','unknown')\n",
    "6 - housing: has housing loan? (categorical: 'no','yes','unknown')\n",
    "7 - loan: has personal loan? (categorical: 'no','yes','unknown')\n",
    "# related with the last contact of the current campaign:\n",
    "8 - contact: contact communication type (categorical: 'cellular','telephone')\n",
    "9 - month: last contact month of year (categorical: 'jan', 'feb', 'mar', ..., 'nov', 'dec')\n",
    "10 - day_of_week: last contact day of the week (categorical: 'mon','tue','wed','thu','fri')\n",
    "11 - duration: last contact duration, in seconds (numeric). Important note: this attribute highly affects the output target (e.g., if duration=0 then y='no'). Yet, the duration is not known before a call is performed. Also, after the end of the call y is obviously known. Thus, this input should only be included for benchmark purposes and should be discarded if the intention is to have a realistic predictive model.\n",
    "# other attributes:\n",
    "12 - campaign: number of contacts performed during this campaign and for this client (numeric, includes last contact)\n",
    "13 - pdays: number of days that passed by after the client was last contacted from a previous campaign (numeric; 999 means client was not previously contacted)\n",
    "14 - previous: number of contacts performed before this campaign and for this client (numeric)\n",
    "15 - poutcome: outcome of the previous marketing campaign (categorical: 'failure','nonexistent','success')\n",
    "# social and economic context attributes\n",
    "16 - emp.var.rate: employment variation rate - quarterly indicator (numeric)\n",
    "17 - cons.price.idx: consumer price index - monthly indicator (numeric)\n",
    "18 - cons.conf.idx: consumer confidence index - monthly indicator (numeric)\n",
    "19 - euribor3m: euribor 3 month rate - daily indicator (numeric)\n",
    "20 - nr.employed: number of employees - quarterly indicator (numeric)\n",
    "\n",
    "Output variable (desired target):\n",
    "21 - y - has the client subscribed a term deposit? (binary: 'yes','no')\n",
    "```\n",
    "\n"
   ]
  },
  {
   "cell_type": "code",
   "execution_count": 5,
   "metadata": {},
   "outputs": [],
   "source": [
    "# Renaming target column 'y' to 'term_dep' to avoid the confusion\n",
    "df.rename(columns={'y': 'term_dep'}, inplace=True)"
   ]
  },
  {
   "cell_type": "code",
   "execution_count": 6,
   "metadata": {},
   "outputs": [
    {
     "name": "stdout",
     "output_type": "stream",
     "text": [
      "<class 'pandas.core.frame.DataFrame'>\n",
      "RangeIndex: 41188 entries, 0 to 41187\n",
      "Data columns (total 8 columns):\n",
      " #   Column     Non-Null Count  Dtype \n",
      "---  ------     --------------  ----- \n",
      " 0   age        41188 non-null  int64 \n",
      " 1   job        41188 non-null  object\n",
      " 2   marital    41188 non-null  object\n",
      " 3   education  41188 non-null  object\n",
      " 4   default    41188 non-null  object\n",
      " 5   housing    41188 non-null  object\n",
      " 6   loan       41188 non-null  object\n",
      " 7   term_dep   41188 non-null  object\n",
      "dtypes: int64(1), object(7)\n",
      "memory usage: 2.5+ MB\n"
     ]
    }
   ],
   "source": [
    "# In the task 5 it is indicated that we will work on columns 1-7. Hence creating a dataframe with only these features\n",
    "# and column 'term_dep' as a target.\n",
    "df = df[['age', 'job', 'marital', 'education', 'default', 'housing', 'loan', 'term_dep']]\n",
    "df.info()"
   ]
  },
  {
   "cell_type": "code",
   "execution_count": 7,
   "metadata": {},
   "outputs": [
    {
     "data": {
      "text/plain": [
       "admin.           10422\n",
       "blue-collar       9254\n",
       "technician        6743\n",
       "services          3969\n",
       "management        2924\n",
       "retired           1720\n",
       "entrepreneur      1456\n",
       "self-employed     1421\n",
       "housemaid         1060\n",
       "unemployed        1014\n",
       "student            875\n",
       "unknown            330\n",
       "Name: job, dtype: int64"
      ]
     },
     "execution_count": 7,
     "metadata": {},
     "output_type": "execute_result"
    }
   ],
   "source": [
    "# Understanding the values and checking for unusual values, typos... in column 'job'\n",
    "df['job'].value_counts()"
   ]
  },
  {
   "cell_type": "code",
   "execution_count": 8,
   "metadata": {},
   "outputs": [
    {
     "data": {
      "text/plain": [
       "married     24928\n",
       "single      11568\n",
       "divorced     4612\n",
       "unknown        80\n",
       "Name: marital, dtype: int64"
      ]
     },
     "execution_count": 8,
     "metadata": {},
     "output_type": "execute_result"
    }
   ],
   "source": [
    "# Understanding the values and checking for unusual values, typos... in column 'marital'\n",
    "df['marital'].value_counts()"
   ]
  },
  {
   "cell_type": "code",
   "execution_count": 9,
   "metadata": {},
   "outputs": [
    {
     "data": {
      "text/plain": [
       "university.degree      12168\n",
       "high.school             9515\n",
       "basic.9y                6045\n",
       "professional.course     5243\n",
       "basic.4y                4176\n",
       "basic.6y                2292\n",
       "unknown                 1731\n",
       "illiterate                18\n",
       "Name: education, dtype: int64"
      ]
     },
     "execution_count": 9,
     "metadata": {},
     "output_type": "execute_result"
    }
   ],
   "source": [
    "# Understanding the values and checking for unusual values, typos... in column 'education'\n",
    "df['education'].value_counts()"
   ]
  },
  {
   "cell_type": "code",
   "execution_count": 10,
   "metadata": {},
   "outputs": [
    {
     "data": {
      "text/plain": [
       "no         32588\n",
       "unknown     8597\n",
       "yes            3\n",
       "Name: default, dtype: int64"
      ]
     },
     "execution_count": 10,
     "metadata": {},
     "output_type": "execute_result"
    }
   ],
   "source": [
    "# Understanding the values and checking for unusual values, typos... in column 'default'\n",
    "df['default'].value_counts()"
   ]
  },
  {
   "cell_type": "code",
   "execution_count": 11,
   "metadata": {},
   "outputs": [
    {
     "data": {
      "text/plain": [
       "yes        21576\n",
       "no         18622\n",
       "unknown      990\n",
       "Name: housing, dtype: int64"
      ]
     },
     "execution_count": 11,
     "metadata": {},
     "output_type": "execute_result"
    }
   ],
   "source": [
    "# Understanding the values and checking for unusual values, typos... in column 'housing'\n",
    "df['housing'].value_counts()"
   ]
  },
  {
   "cell_type": "code",
   "execution_count": 12,
   "metadata": {},
   "outputs": [
    {
     "data": {
      "text/plain": [
       "no         33950\n",
       "yes         6248\n",
       "unknown      990\n",
       "Name: loan, dtype: int64"
      ]
     },
     "execution_count": 12,
     "metadata": {},
     "output_type": "execute_result"
    }
   ],
   "source": [
    "# Understanding the values and checking for unusual values, typos... in column 'loan'\n",
    "df['loan'].value_counts()"
   ]
  },
  {
   "cell_type": "code",
   "execution_count": 13,
   "metadata": {},
   "outputs": [
    {
     "data": {
      "text/plain": [
       "False"
      ]
     },
     "execution_count": 13,
     "metadata": {},
     "output_type": "execute_result"
    }
   ],
   "source": [
    "# Checking if there is any missing data\n",
    "df.isna().any().any()"
   ]
  },
  {
   "cell_type": "code",
   "execution_count": 14,
   "metadata": {},
   "outputs": [
    {
     "data": {
      "text/plain": [
       "31    1947\n",
       "32    1846\n",
       "33    1833\n",
       "36    1780\n",
       "35    1759\n",
       "      ... \n",
       "89       2\n",
       "91       2\n",
       "94       1\n",
       "87       1\n",
       "95       1\n",
       "Name: age, Length: 78, dtype: int64"
      ]
     },
     "execution_count": 14,
     "metadata": {},
     "output_type": "execute_result"
    }
   ],
   "source": [
    "# Looks like no missing data. Now checking for anomaly values in the columns.\n",
    "df['age'].value_counts()"
   ]
  },
  {
   "cell_type": "code",
   "execution_count": 15,
   "metadata": {},
   "outputs": [
    {
     "data": {
      "text/plain": [
       "37140    17\n",
       "37539    17\n",
       "37558    17\n",
       "37579    17\n",
       "38274    17\n",
       "Name: age, dtype: int64"
      ]
     },
     "execution_count": 15,
     "metadata": {},
     "output_type": "execute_result"
    }
   ],
   "source": [
    "# To open a bank account in Portugal, applicants must be aged at least 18.\n",
    "# It is safe to assume that the life span runs through 99.\n",
    "# I will check if any values are out of ordinary based on the above statements.\n",
    "age_filter = (df['age'] < 18) | (df['age'] > 99)\n",
    "df[age_filter]['age']"
   ]
  },
  {
   "cell_type": "code",
   "execution_count": 16,
   "metadata": {},
   "outputs": [],
   "source": [
    "# The 17 year old clients can't have a bank account and therefore I will delete rows (5) for these customers.\n",
    "df = df[df['age'] != 17]"
   ]
  },
  {
   "cell_type": "code",
   "execution_count": 17,
   "metadata": {},
   "outputs": [
    {
     "data": {
      "text/plain": [
       "no         32583\n",
       "unknown     8597\n",
       "yes            3\n",
       "Name: default, dtype: int64"
      ]
     },
     "execution_count": 17,
     "metadata": {},
     "output_type": "execute_result"
    }
   ],
   "source": [
    "# Checking for anomaly values in the remaining columns.\n",
    "df['default'].value_counts()"
   ]
  },
  {
   "cell_type": "code",
   "execution_count": 18,
   "metadata": {},
   "outputs": [],
   "source": [
    "# Out of remaining columns only 'default' column has a concerning data distribution. Since there are only 3\n",
    "# (less than 0.008%) defults it doesn't make sense to keep this column. \n",
    "df.drop('default', axis=1, inplace=True)"
   ]
  },
  {
   "cell_type": "markdown",
   "metadata": {},
   "source": [
    "### Problem 4: Understanding the Task\n",
    "\n",
    "After examining the description and data, your goal now is to clearly state the *Business Objective* of the task.  State the objective below."
   ]
  },
  {
   "cell_type": "code",
   "execution_count": 19,
   "metadata": {},
   "outputs": [
    {
     "name": "stdout",
     "output_type": "stream",
     "text": [
      "<class 'pandas.core.frame.DataFrame'>\n",
      "Int64Index: 41183 entries, 0 to 41187\n",
      "Data columns (total 7 columns):\n",
      " #   Column     Non-Null Count  Dtype \n",
      "---  ------     --------------  ----- \n",
      " 0   age        41183 non-null  int64 \n",
      " 1   job        41183 non-null  object\n",
      " 2   marital    41183 non-null  object\n",
      " 3   education  41183 non-null  object\n",
      " 4   housing    41183 non-null  object\n",
      " 5   loan       41183 non-null  object\n",
      " 6   term_dep   41183 non-null  object\n",
      "dtypes: int64(1), object(6)\n",
      "memory usage: 2.5+ MB\n"
     ]
    }
   ],
   "source": [
    "df.info()"
   ]
  },
  {
   "cell_type": "code",
   "execution_count": 20,
   "metadata": {},
   "outputs": [],
   "source": [
    "#The business objective is to predict if a bank client will sign up for a term deposit, based on their \n",
    "#information. The outcome helps the bank to make more informed decisions on marketing campaigns and to \n",
    "#tailor their services to better fit the clients' needs. This should ultimately lead to increased customer \n",
    "#satisfaction, retention, and improved bank profitability."
   ]
  },
  {
   "cell_type": "markdown",
   "metadata": {},
   "source": [
    "### Problem 5: Engineering Features\n",
    "\n",
    "Now that you understand your business objective, we will build a basic model to get started.  Before we can do this, we must work to encode the data.  Using just the bank information features (columns 1 - 7), prepare the features and target column for modeling with appropriate encoding and transformations."
   ]
  },
  {
   "cell_type": "code",
   "execution_count": 21,
   "metadata": {},
   "outputs": [],
   "source": [
    "# Using ordinal encoding for features 'housing' and 'loan'\n",
    "encoder = OrdinalEncoder(categories=[['no', 'unknown', 'yes']] * 2)\n",
    "df[['housing', 'loan']] = encoder.fit_transform(df[['housing', 'loan']])"
   ]
  },
  {
   "cell_type": "code",
   "execution_count": 22,
   "metadata": {},
   "outputs": [],
   "source": [
    "# Using ordinal encoding for target feature\n",
    "df['term_dep'] = df['term_dep'].map({'no': 0, 'yes': 1})"
   ]
  },
  {
   "cell_type": "code",
   "execution_count": 23,
   "metadata": {},
   "outputs": [],
   "source": [
    "# Spliting the dataframe into the feature columns and the target column\n",
    "X = df.drop('term_dep', axis=1)\n",
    "y = df['term_dep']"
   ]
  },
  {
   "cell_type": "code",
   "execution_count": 24,
   "metadata": {},
   "outputs": [
    {
     "name": "stdout",
     "output_type": "stream",
     "text": [
      "0    36545\n",
      "1     4638\n",
      "Name: term_dep, dtype: int64\n"
     ]
    },
    {
     "data": {
      "image/png": "[encoded data removed]",
      "text/plain": [
       "<Figure size 640x480 with 1 Axes>"
      ]
     },
     "metadata": {},
     "output_type": "display_data"
    }
   ],
   "source": [
    "# Checking if the dataset is balanced\n",
    "class_counts = df['term_dep'].value_counts()\n",
    "print(class_counts)\n",
    "plt.bar(class_counts.index, class_counts.values)\n",
    "plt.xlabel('Class')\n",
    "plt.ylabel('Count')\n",
    "plt.show()"
   ]
  },
  {
   "cell_type": "code",
   "execution_count": 25,
   "metadata": {},
   "outputs": [],
   "source": [
    "# The data is imbalanced as we can see in the above chart. Imbalanced data can negatively impact the performance of \n",
    "# machine learning models, especialy the minority class is of interest. Which in our case term deposit happens to be\n",
    "# the minority class. Therefore I will explore balancing the data to improve the performance of the models. I will \n",
    "#adjust the data set to be balanced data with oversampling."
   ]
  },
  {
   "cell_type": "code",
   "execution_count": 26,
   "metadata": {},
   "outputs": [],
   "source": [
    "X = pd.get_dummies(X, columns=['job', 'marital', 'education'])"
   ]
  },
  {
   "cell_type": "markdown",
   "metadata": {},
   "source": [
    "### Problem 6: Train/Test Split\n",
    "\n",
    "With your data prepared, split it into a train and test set."
   ]
  },
  {
   "cell_type": "code",
   "execution_count": 27,
   "metadata": {},
   "outputs": [],
   "source": [
    "# Spliting the data into training and testing sets\n",
    "X_train, X_test, y_train, y_test = train_test_split(X, y, test_size=0.3\n",
    "                                                    , random_state=42)"
   ]
  },
  {
   "cell_type": "code",
   "execution_count": 28,
   "metadata": {},
   "outputs": [
    {
     "name": "stdout",
     "output_type": "stream",
     "text": [
      "age is not normally distributed (reject H0)\n",
      "housing is not normally distributed (reject H0)\n",
      "loan is not normally distributed (reject H0)\n",
      "job_admin. is not normally distributed (reject H0)\n",
      "job_blue-collar is not normally distributed (reject H0)\n",
      "job_entrepreneur is not normally distributed (reject H0)\n",
      "job_housemaid is not normally distributed (reject H0)\n",
      "job_management is not normally distributed (reject H0)\n",
      "job_retired is not normally distributed (reject H0)\n",
      "job_self-employed is not normally distributed (reject H0)\n",
      "job_services is not normally distributed (reject H0)\n",
      "job_student is not normally distributed (reject H0)\n",
      "job_technician is not normally distributed (reject H0)\n",
      "job_unemployed is not normally distributed (reject H0)\n",
      "job_unknown is not normally distributed (reject H0)\n",
      "marital_divorced is not normally distributed (reject H0)\n",
      "marital_married is not normally distributed (reject H0)\n",
      "marital_single is not normally distributed (reject H0)\n",
      "marital_unknown is not normally distributed (reject H0)\n",
      "education_basic.4y is not normally distributed (reject H0)\n",
      "education_basic.6y is not normally distributed (reject H0)\n",
      "education_basic.9y is not normally distributed (reject H0)\n",
      "education_high.school is not normally distributed (reject H0)\n",
      "education_illiterate is not normally distributed (reject H0)\n",
      "education_professional.course is not normally distributed (reject H0)\n",
      "education_university.degree is not normally distributed (reject H0)\n",
      "education_unknown is not normally distributed (reject H0)\n"
     ]
    },
    {
     "name": "stderr",
     "output_type": "stream",
     "text": [
      "/opt/anaconda3/lib/python3.9/site-packages/scipy/stats/_morestats.py:1800: UserWarning: p-value may not be accurate for N > 5000.\n",
      "  warnings.warn(\"p-value may not be accurate for N > 5000.\")\n"
     ]
    }
   ],
   "source": [
    "# StandardScaler works best with features that have a normal distribution.\n",
    "# Using Shapiro-Wilk test if features have normal distribution.\n",
    "for col in X.columns:\n",
    "    stat, p = shapiro(X[col])\n",
    "    alpha = 0.05\n",
    "    if p > alpha:\n",
    "        print(f'{col} is normally distributed (fail to reject H0)')\n",
    "    else:\n",
    "        print(f'{col} is not normally distributed (reject H0)')"
   ]
  },
  {
   "cell_type": "code",
   "execution_count": 29,
   "metadata": {
    "scrolled": true
   },
   "outputs": [
    {
     "name": "stdout",
     "output_type": "stream",
     "text": [
      "<class 'pandas.core.frame.DataFrame'>\n",
      "Int64Index: 41183 entries, 0 to 41187\n",
      "Data columns (total 7 columns):\n",
      " #   Column     Non-Null Count  Dtype  \n",
      "---  ------     --------------  -----  \n",
      " 0   age        41183 non-null  int64  \n",
      " 1   job        41183 non-null  object \n",
      " 2   marital    41183 non-null  object \n",
      " 3   education  41183 non-null  object \n",
      " 4   housing    41183 non-null  float64\n",
      " 5   loan       41183 non-null  float64\n",
      " 6   term_dep   41183 non-null  int64  \n",
      "dtypes: float64(2), int64(2), object(3)\n",
      "memory usage: 2.5+ MB\n"
     ]
    }
   ],
   "source": [
    "df.info()"
   ]
  },
  {
   "cell_type": "code",
   "execution_count": 30,
   "metadata": {},
   "outputs": [],
   "source": [
    "# Creating an oversampler object\n",
    "oversampler = RandomOverSampler(random_state=42)\n",
    "\n",
    "# Fitting and transform the training data\n",
    "X_train_resampled, y_train_resampled = oversampler.fit_resample(X_train, y_train)\n"
   ]
  },
  {
   "cell_type": "code",
   "execution_count": 31,
   "metadata": {},
   "outputs": [],
   "source": [
    "# Now that the dataset is balanced I can scale the data\n",
    "\n",
    "# Creating a StandardScaler object\n",
    "scaler = StandardScaler()\n",
    "\n",
    "# Fitting and transform the training data\n",
    "X_train_scaled = scaler.fit_transform(X_train_resampled)\n",
    "\n",
    "# Transforming the test data using the scaler fitted on the training data\n",
    "X_test_scaled = scaler.transform(X_test)\n"
   ]
  },
  {
   "cell_type": "markdown",
   "metadata": {},
   "source": [
    "### Problem 7: A Baseline Model\n",
    "\n",
    "Before we build our first model, we want to establish a baseline.  What is the baseline performance that our classifier should aim to beat?"
   ]
  },
  {
   "cell_type": "code",
   "execution_count": 32,
   "metadata": {},
   "outputs": [
    {
     "name": "stdout",
     "output_type": "stream",
     "text": [
      "The baseline performance that our classifier should aim to beat is accuracy of 0.8873807153437098\n"
     ]
    }
   ],
   "source": [
    "#Creating the baseline model\n",
    "class_counts = df['term_dep'].value_counts()\n",
    "majority_class = class_counts.idxmax()\n",
    "y_baseline = np.full(df.shape[0], majority_class)\n",
    "accuracy = accuracy_score(df['term_dep'], y_baseline)\n",
    "print(f'The baseline performance that our classifier should aim to beat is accuracy of {accuracy}')"
   ]
  },
  {
   "cell_type": "markdown",
   "metadata": {},
   "source": [
    "### Problem 8: A Simple Model\n",
    "\n",
    "Use Logistic Regression to build a basic model on your data.  "
   ]
  },
  {
   "cell_type": "markdown",
   "metadata": {},
   "source": [
    "### Problem 9: Score the Model\n",
    "\n",
    "What is the accuracy of your model?"
   ]
  },
  {
   "cell_type": "markdown",
   "metadata": {},
   "source": [
    "### Problem 10: Model Comparisons\n",
    "\n",
    "Now, we aim to compare the performance of the Logistic Regression model to our KNN algorithm, Decision Tree, and SVM models.  Using the default settings for each of the models, fit and score each.  Also, be sure to compare the fit time of each of the models.  Present your findings in a `DataFrame` similar to that below:\n",
    "\n",
    "| Model | Train Time | Train Accuracy | Test Accuracy |\n",
    "| ----- | ---------- | -------------  | -----------   |\n",
    "|     |    |.     |.     |"
   ]
  },
  {
   "cell_type": "code",
   "execution_count": 33,
   "metadata": {},
   "outputs": [
    {
     "name": "stdout",
     "output_type": "stream",
     "text": [
      "Classifier: Logistic Regression\n",
      "Training time: 0.03s\n",
      "Training accuracy: 0.5859\n",
      "Testing accuracy: 0.6235\n",
      "Cross-validation scores: [0.58607199 0.5818253  0.58495549 0.58466204 0.58769441]\n",
      "Mean cross-validation accuracy: 0.5850\n",
      "Standard deviation of cross-validation accuracy: 0.0019\n",
      "Precision: 0.1586\n",
      "Recall: 0.5577\n",
      "F1 score: 0.2470\n",
      "AUC: 0.5947\n",
      "\n",
      "Classifier: KNN\n",
      "Training time: 0.00s\n",
      "Training accuracy: 0.6891\n",
      "Testing accuracy: 0.8176\n",
      "Cross-validation scores: [0.66744914 0.65890639 0.67152499 0.67504646 0.67220972]\n",
      "Mean cross-validation accuracy: 0.6690\n",
      "Standard deviation of cross-validation accuracy: 0.0056\n",
      "Precision: 0.1936\n",
      "Recall: 0.2047\n",
      "F1 score: 0.1990\n",
      "AUC: 0.5493\n",
      "\n",
      "Classifier: Decision Tree\n",
      "Training time: 0.08s\n",
      "Training accuracy: 0.8072\n",
      "Testing accuracy: 0.6738\n",
      "Cross-validation scores: [0.76975743 0.76983273 0.76308324 0.76728945 0.77110437]\n",
      "Mean cross-validation accuracy: 0.7682\n",
      "Standard deviation of cross-validation accuracy: 0.0028\n",
      "Precision: 0.1458\n",
      "Recall: 0.4006\n",
      "F1 score: 0.2138\n",
      "AUC: 0.5542\n",
      "\n",
      "Classifier: SVM\n",
      "Training time: 187.58s\n",
      "Training accuracy: 0.6275\n",
      "Testing accuracy: 0.6009\n",
      "Cross-validation scores: [0.61883803 0.60627996 0.61498582 0.61694219 0.61792038]\n",
      "Mean cross-validation accuracy: 0.6150\n",
      "Standard deviation of cross-validation accuracy: 0.0045\n",
      "Precision: 0.1549\n",
      "Recall: 0.5848\n",
      "F1 score: 0.2450\n",
      "AUC: 0.5938\n",
      "\n"
     ]
    },
    {
     "data": {
      "image/png": "[encoded data removed]",
      "text/plain": [
       "<Figure size 400x300 with 1 Axes>"
      ]
     },
     "metadata": {},
     "output_type": "display_data"
    },
    {
     "data": {
      "image/png": "[encoded data removed]",
      "text/plain": [
       "<Figure size 700x300 with 5 Axes>"
      ]
     },
     "metadata": {},
     "output_type": "display_data"
    },
    {
     "data": {
      "text/html": [
       "<div>\n",
       "<style scoped>\n",
       "    .dataframe tbody tr th:only-of-type {\n",
       "        vertical-align: middle;\n",
       "    }\n",
       "\n",
       "    .dataframe tbody tr th {\n",
       "        vertical-align: top;\n",
       "    }\n",
       "\n",
       "    .dataframe thead th {\n",
       "        text-align: right;\n",
       "    }\n",
       "</style>\n",
       "<table border=\"1\" class=\"dataframe\">\n",
       "  <thead>\n",
       "    <tr style=\"text-align: right;\">\n",
       "      <th></th>\n",
       "      <th>Training time</th>\n",
       "      <th>Training accuracy</th>\n",
       "      <th>Testing accuracy</th>\n",
       "    </tr>\n",
       "  </thead>\n",
       "  <tbody>\n",
       "    <tr>\n",
       "      <th>Logistic Regression</th>\n",
       "      <td>0.029787</td>\n",
       "      <td>0.585922</td>\n",
       "      <td>0.623472</td>\n",
       "    </tr>\n",
       "    <tr>\n",
       "      <th>KNN</th>\n",
       "      <td>0.004936</td>\n",
       "      <td>0.689060</td>\n",
       "      <td>0.817564</td>\n",
       "    </tr>\n",
       "    <tr>\n",
       "      <th>Decision Tree</th>\n",
       "      <td>0.082242</td>\n",
       "      <td>0.807223</td>\n",
       "      <td>0.673816</td>\n",
       "    </tr>\n",
       "    <tr>\n",
       "      <th>SVM</th>\n",
       "      <td>187.582745</td>\n",
       "      <td>0.627494</td>\n",
       "      <td>0.600890</td>\n",
       "    </tr>\n",
       "  </tbody>\n",
       "</table>\n",
       "</div>"
      ],
      "text/plain": [
       "                     Training time  Training accuracy  Testing accuracy\n",
       "Logistic Regression       0.029787           0.585922          0.623472\n",
       "KNN                       0.004936           0.689060          0.817564\n",
       "Decision Tree             0.082242           0.807223          0.673816\n",
       "SVM                     187.582745           0.627494          0.600890"
      ]
     },
     "execution_count": 33,
     "metadata": {},
     "output_type": "execute_result"
    }
   ],
   "source": [
    "# Initializing the classifiers\n",
    "knn = KNeighborsClassifier()\n",
    "logreg = LogisticRegression(max_iter=1000)\n",
    "dt = DecisionTreeClassifier()\n",
    "svm = SVC()\n",
    "\n",
    "# Initializing dictionary to store confusion matrices\n",
    "confusion_matrix_dict = {}\n",
    "\n",
    "# Initializing an empty DataFrame to store the results\n",
    "table = pd.DataFrame()\n",
    "\n",
    "# Training and evaluating the classifiers\n",
    "for clf, clf_name in [(logreg, 'Logistic Regression'), (knn, 'KNN'), (dt, 'Decision Tree'), (svm, 'SVM')]:\n",
    "    start_time = time.time()\n",
    "    clf.fit(X_train_scaled, y_train_resampled)\n",
    "    end_time = time.time()\n",
    "    training_time = end_time - start_time\n",
    "    \n",
    "    # Predicting using the trained classifier\n",
    "    y_pred_train = clf.predict(X_train_scaled)\n",
    "    training_accuracy = accuracy_score(y_train_resampled, y_pred_train)\n",
    "    \n",
    "    y_pred = clf.predict(X_test_scaled)\n",
    "    accuracy = accuracy_score(y_test, y_pred)\n",
    "    precision = precision_score(y_test, y_pred, zero_division=1)\n",
    "    recall = recall_score(y_test, y_pred, zero_division=1)\n",
    "    f1 = f1_score(y_test, y_pred, zero_division=1)\n",
    "    auc_score = roc_auc_score(y_test, y_pred)\n",
    "    confusion = confusion_matrix(y_test, y_pred)\n",
    "    \n",
    "    # Plotting ROC curve\n",
    "    fpr, tpr, _ = roc_curve(y_test, y_pred)\n",
    "    roc_auc = auc(fpr, tpr)\n",
    "    plt.plot(fpr, tpr, label=f'{clf_name} (AUC = {roc_auc:.2f})')\n",
    "    \n",
    "    # Storing confusion matrix in dictionary\n",
    "    confusion_matrix_dict[clf_name] = confusion\n",
    "    \n",
    "    # Creating dictionary to hold results for this model\n",
    "    results = {}\n",
    "    results['Training time'] = training_time\n",
    "    results['Training accuracy'] = training_accuracy\n",
    "    results['Testing accuracy'] = accuracy\n",
    "    \n",
    "    # Adding results to table\n",
    "    if clf_name == 'Logistic Regression':\n",
    "        table = pd.DataFrame(results, index=[clf_name])\n",
    "    else:\n",
    "        table = pd.concat([table, pd.DataFrame(results, index=[clf_name])])\n",
    "\n",
    "\n",
    "    # Cross-validation\n",
    "    cv = StratifiedKFold(n_splits=5, shuffle=True, random_state=42)\n",
    "    cv_scores = cross_val_score(clf, X_train_scaled, y_train_resampled, cv=cv, scoring='accuracy')\n",
    "    print(f'Classifier: {clf_name}')\n",
    "    print(f'Training time: {training_time:.2f}s')\n",
    "    print(f'Training accuracy: {training_accuracy:.4f}')\n",
    "    print(f'Testing accuracy: {accuracy:.4f}')\n",
    "    print(f'Cross-validation scores: {cv_scores}')\n",
    "    print(f'Mean cross-validation accuracy: {cv_scores.mean():.4f}')\n",
    "    print(f'Standard deviation of cross-validation accuracy: {cv_scores.std():.4f}')\n",
    "    print(f'Precision: {precision:.4f}')\n",
    "    print(f'Recall: {recall:.4f}')\n",
    "    print(f'F1 score: {f1:.4f}')\n",
    "    print(f'AUC: {auc_score:.4f}')\n",
    "    print()\n",
    "    \n",
    "# Plotting ROC curves\n",
    "plt.legend()\n",
    "plt.title('Receiver Operating Characteristic (ROC) Curve')\n",
    "plt.xlabel('False Positive Rate (1 - Specificity)')\n",
    "plt.ylabel('True Positive Rate (Sensitivity)')\n",
    "plt.tight_layout()\n",
    "plt.gcf().set_size_inches(4,3)\n",
    "plt.show()\n",
    "\n",
    "\n",
    "# Plotting confusion matrices\n",
    "fig, axs = plt.subplots(1, 4, figsize=(7, 3), sharex=True, sharey=True)\n",
    "fig.suptitle('Confusion Matrices')\n",
    "\n",
    "for i, clf_name in enumerate(['Logistic Regression', 'KNN', 'Decision Tree', 'SVM']):\n",
    "    confusion = confusion_matrix_dict[clf_name]\n",
    "    im = axs[i].imshow(confusion, cmap='Pastel2', interpolation='None')\n",
    "    axs[i].set_xticks([0, 1])\n",
    "    axs[i].set_yticks([0, 1])\n",
    "    axs[i].set_xlabel('Predicted Label')\n",
    "    \n",
    "    if i == 0:\n",
    "        axs[i].set_ylabel('True Label')\n",
    "    axs[i].set_title(f'{clf_name}')\n",
    "    \n",
    "    for j in range(2):\n",
    "        for k in range(2):\n",
    "            axs[i].text(k, j, str(confusion[j, k]), horizontalalignment='center', verticalalignment='center', fontsize=14)\n",
    "\n",
    "# Adding colorbar under plot's title\n",
    "fig.subplots_adjust(bottom=0.2)\n",
    "cbar_ax = fig.add_axes([0.3, 0.1, 0.4, 0.05])\n",
    "cbar = fig.colorbar(im, cax=cbar_ax, orientation='horizontal')\n",
    "cbar.ax.tick_params(labelsize=8)\n",
    "\n",
    "# Adjusting spacing between subplots\n",
    "plt.subplots_adjust(wspace=0.1, hspace=0.1)\n",
    "plt.show()\n",
    "\n",
    "table.head()\n"
   ]
  },
  {
   "cell_type": "code",
   "execution_count": 34,
   "metadata": {},
   "outputs": [],
   "source": [
    "# SUMMARY: This approach returned results that have testing accuracy worse (at least 7%) than the \n",
    "# baseline model. Eventhough the other metrics have improved compared to umbalanced data models they are still\n",
    "# not good enough and that is why these models are not usable. \n",
    "# I will now run differnt parameters for the models to hopefully improve them.\n",
    "# **************************\n",
    "# **************************\n",
    "# **************************"
   ]
  },
  {
   "cell_type": "markdown",
   "metadata": {},
   "source": [
    "### Problem 11: Improving the Model\n",
    "\n",
    "Now that we have some basic models on the board, we want to try to improve these.  Below, we list a few things to explore in this pursuit.\n",
    "\n",
    "- More feature engineering and exploration.  For example, should we keep the gender feature?  Why or why not?\n",
    "- Hyperparameter tuning and grid search.  All of our models have additional hyperparameters to tune and explore.  For example the number of neighbors in KNN or the maximum depth of a Decision Tree.  \n",
    "- Adjust your performance metric"
   ]
  },
  {
   "cell_type": "code",
   "execution_count": 36,
   "metadata": {},
   "outputs": [
    {
     "name": "stdout",
     "output_type": "stream",
     "text": [
      "Classifier: Logistic Regression\n",
      "Best hyperparameters: {'C': 1, 'penalty': 'l2'}\n",
      "Training time: 187.58s\n",
      "Training accuracy: 0.5859\n",
      "Testing accuracy: 0.6235\n",
      "Cross-validation scores: [0.61883803 0.60627996 0.61498582 0.61694219 0.61792038]\n",
      "Mean cross-validation accuracy: 0.6150\n",
      "Standard deviation of cross-validation accuracy: 0.0045\n",
      "Precision: 0.1586\n",
      "Recall: 0.5577\n",
      "F1 score: 0.2470\n",
      "AUC: 0.5947\n",
      "\n",
      "Classifier: KNN\n",
      "Best hyperparameters: {'n_neighbors': 7}\n",
      "Training time: 187.58s\n",
      "Training accuracy: 0.6949\n",
      "Testing accuracy: 0.7900\n",
      "Cross-validation scores: [0.61883803 0.60627996 0.61498582 0.61694219 0.61792038]\n",
      "Mean cross-validation accuracy: 0.6150\n",
      "Standard deviation of cross-validation accuracy: 0.0045\n",
      "Precision: 0.1769\n",
      "Recall: 0.2456\n",
      "F1 score: 0.2057\n",
      "AUC: 0.5517\n",
      "\n",
      "Classifier: Decision Tree\n",
      "Best hyperparameters: {'criterion': 'gini', 'max_depth': 15}\n",
      "Training time: 187.58s\n",
      "Training accuracy: 0.6919\n",
      "Testing accuracy: 0.6423\n",
      "Cross-validation scores: [0.61883803 0.60627996 0.61498582 0.61694219 0.61792038]\n",
      "Mean cross-validation accuracy: 0.6150\n",
      "Standard deviation of cross-validation accuracy: 0.0045\n",
      "Precision: 0.1516\n",
      "Recall: 0.4854\n",
      "F1 score: 0.2311\n",
      "AUC: 0.5736\n",
      "\n"
     ]
    },
    {
     "data": {
      "image/png": "[encoded data removed]",
      "text/plain": [
       "<Figure size 640x480 with 1 Axes>"
      ]
     },
     "metadata": {},
     "output_type": "display_data"
    },
    {
     "data": {
      "image/png": "[encoded data removed]",
      "text/plain": [
       "<Figure size 700x400 with 4 Axes>"
      ]
     },
     "metadata": {},
     "output_type": "display_data"
    },
    {
     "data": {
      "text/html": [
       "<div>\n",
       "<style scoped>\n",
       "    .dataframe tbody tr th:only-of-type {\n",
       "        vertical-align: middle;\n",
       "    }\n",
       "\n",
       "    .dataframe tbody tr th {\n",
       "        vertical-align: top;\n",
       "    }\n",
       "\n",
       "    .dataframe thead th {\n",
       "        text-align: right;\n",
       "    }\n",
       "</style>\n",
       "<table border=\"1\" class=\"dataframe\">\n",
       "  <thead>\n",
       "    <tr style=\"text-align: right;\">\n",
       "      <th></th>\n",
       "      <th>Training time</th>\n",
       "      <th>Training accuracy</th>\n",
       "      <th>Testing accuracy</th>\n",
       "    </tr>\n",
       "  </thead>\n",
       "  <tbody>\n",
       "    <tr>\n",
       "      <th>Logistic Regression</th>\n",
       "      <td>187.582745</td>\n",
       "      <td>0.585922</td>\n",
       "      <td>0.623472</td>\n",
       "    </tr>\n",
       "    <tr>\n",
       "      <th>KNN</th>\n",
       "      <td>187.582745</td>\n",
       "      <td>0.694910</td>\n",
       "      <td>0.789964</td>\n",
       "    </tr>\n",
       "    <tr>\n",
       "      <th>Decision Tree</th>\n",
       "      <td>187.582745</td>\n",
       "      <td>0.691858</td>\n",
       "      <td>0.642331</td>\n",
       "    </tr>\n",
       "  </tbody>\n",
       "</table>\n",
       "</div>"
      ],
      "text/plain": [
       "                     Training time  Training accuracy  Testing accuracy\n",
       "Logistic Regression     187.582745           0.585922          0.623472\n",
       "KNN                     187.582745           0.694910          0.789964\n",
       "Decision Tree           187.582745           0.691858          0.642331"
      ]
     },
     "execution_count": 36,
     "metadata": {},
     "output_type": "execute_result"
    }
   ],
   "source": [
    "# Running 3 models (my machine is to slow to run SVM Model, I tried several times) and checking for best parameters.\n",
    "# Initializing the classifiers with a range of hyperparameters\n",
    "knn = KNeighborsClassifier()\n",
    "logreg = LogisticRegression(max_iter=1000, solver='liblinear')\n",
    "dt = DecisionTreeClassifier()\n",
    "\n",
    "knn_param_grid = {'n_neighbors': [3, 5, 7]}\n",
    "logreg_param_grid = {'C': [0.1, 1, 10], 'penalty': ['l1', 'l2']}\n",
    "dt_param_grid = {'criterion': ['gini', 'entropy'], 'max_depth': [5, 10, 15]}\n",
    "\n",
    "# Initializing dictionary to store confusion matrices\n",
    "confusion_matrix_dict = {}\n",
    "\n",
    "# Training and evaluating the classifiers\n",
    "for clf, clf_name, param_grid in [(logreg, 'Logistic Regression', logreg_param_grid), \n",
    "                                  (knn, 'KNN', knn_param_grid), \n",
    "                                  (dt, 'Decision Tree', dt_param_grid)]:\n",
    "    clf_gs = GridSearchCV(clf, param_grid, cv=5, scoring='accuracy')\n",
    "\n",
    "    clf_gs.fit(X_train_scaled, y_train_resampled)\n",
    "    \n",
    "    # Predicting using the best hyperparameters\n",
    "    clf = clf_gs.best_estimator_\n",
    "    y_pred_train = clf.predict(X_train_scaled)\n",
    "    training_accuracy = accuracy_score(y_train_resampled, y_pred_train)\n",
    "    \n",
    "    y_pred = clf.predict(X_test_scaled)\n",
    "    accuracy = accuracy_score(y_test, y_pred)\n",
    "    precision = precision_score(y_test, y_pred, zero_division=1)\n",
    "    recall = recall_score(y_test, y_pred, zero_division=1)\n",
    "    f1 = f1_score(y_test, y_pred, zero_division=1)\n",
    "    auc_score = roc_auc_score(y_test, y_pred)\n",
    "    confusion = confusion_matrix(y_test, y_pred)\n",
    "    \n",
    "    # Plotting ROC curve\n",
    "    fpr, tpr, _ = roc_curve(y_test, y_pred)\n",
    "    roc_auc = auc(fpr, tpr)\n",
    "    plt.plot(fpr, tpr, label=f'{clf_name} (AUC = {roc_auc:.2f})')\n",
    "    \n",
    "    # Storing confusion matrix in dictionary\n",
    "    confusion_matrix_dict[clf_name] = confusion\n",
    "    \n",
    "    # Creating dictionary to hold results for this model\n",
    "    results = {}\n",
    "    results['Training time'] = training_time\n",
    "    results['Training accuracy'] = training_accuracy\n",
    "    results['Testing accuracy'] = accuracy\n",
    "    \n",
    "    # Adding results to table\n",
    "    if clf_name == 'Logistic Regression':\n",
    "        table = pd.DataFrame(results, index=[clf_name])\n",
    "    else:\n",
    "        table = pd.concat([table, pd.DataFrame(results, index=[clf_name])])\n",
    "\n",
    "    # Print best hyperparameters and performance metrics\n",
    "    print(f'Classifier: {clf_name}')\n",
    "    print(f'Best hyperparameters: {clf_gs.best_params_}')\n",
    "    print(f'Training time: {training_time:.2f}s')\n",
    "    print(f'Training accuracy: {training_accuracy:.4f}')\n",
    "    print(f'Testing accuracy: {accuracy:.4f}')\n",
    "    print(f'Cross-validation scores: {cv_scores}')\n",
    "    print(f'Mean cross-validation accuracy: {cv_scores.mean():.4f}')\n",
    "    print(f'Standard deviation of cross-validation accuracy: {cv_scores.std():.4f}')\n",
    "    print(f'Precision: {precision:.4f}')\n",
    "    print(f'Recall: {recall:.4f}')\n",
    "    print(f'F1 score: {f1:.4f}')\n",
    "    print(f'AUC: {auc_score:.4f}')\n",
    "    print()\n",
    "    \n",
    "# Plotting ROC curve\n",
    "plt.plot([0, 1], [0, 1], 'k--')\n",
    "plt.xlim([0.0, 1.0])\n",
    "plt.ylim([0.0, 1.05])\n",
    "plt.xlabel('False Positive Rate')\n",
    "plt.ylabel('True Positive Rate')\n",
    "plt.title('Receiver operating characteristic')\n",
    "plt.legend(loc='lower right')\n",
    "\n",
    "# Plotting confusion matrices\n",
    "fig, axs = plt.subplots(1, 3, figsize=(7, 4), sharex=True, sharey=True)\n",
    "fig.suptitle('Confusion Matrices')\n",
    "\n",
    "for i, clf_name in enumerate(['Logistic Regression', 'KNN', 'Decision Tree']):\n",
    "    confusion = confusion_matrix_dict[clf_name]\n",
    "    im = axs[i].imshow(confusion, cmap='Pastel2', interpolation='None')\n",
    "    axs[i].set_xticks([0, 1])\n",
    "    axs[i].set_yticks([0, 1])\n",
    "    axs[i].set_xlabel('Predicted Label')\n",
    "    \n",
    "    if i == 0:\n",
    "        axs[i].set_ylabel('True Label')\n",
    "    axs[i].set_title(f'{clf_name}')\n",
    "    \n",
    "    for j in range(2):\n",
    "        for k in range(2):\n",
    "            axs[i].text(k, j, str(confusion[j, k]), horizontalalignment='center', verticalalignment='center', fontsize=14)\n",
    "\n",
    "# Adding colorbar under plot's title\n",
    "fig.subplots_adjust(bottom=0.2)\n",
    "cbar_ax = fig.add_axes([0.3, 0.1, 0.4, 0.05])\n",
    "cbar = fig.colorbar(im, cax=cbar_ax, orientation='horizontal')\n",
    "cbar.ax.tick_params(labelsize=8)\n",
    "\n",
    "# Adjusting spacing between subplots\n",
    "plt.subplots_adjust(wspace=0.1, hspace=0.1)\n",
    "plt.show()\n",
    "\n",
    "#Printing table of results\n",
    "table.head()"
   ]
  },
  {
   "cell_type": "code",
   "execution_count": null,
   "metadata": {},
   "outputs": [],
   "source": [
    "# SUMMARY: This approach returned results that have testing accuracy significantly worse (at least 11%) than the \n",
    "# baseline model. Eventhough some of the other metrics have improved compared to umbalanced data models they are still\n",
    "# not good enough and that is why these models are not usable. \n",
    "# **************************\n",
    "# **************************\n",
    "# **************************"
   ]
  },
  {
   "cell_type": "markdown",
   "metadata": {},
   "source": [
    "##### Questions"
   ]
  }
 ],
 "metadata": {
  "kernelspec": {
   "display_name": "Python 3 (ipykernel)",
   "language": "python",
   "name": "python3"
  },
  "language_info": {
   "codemirror_mode": {
    "name": "ipython",
    "version": 3
   },
   "file_extension": ".py",
   "mimetype": "text/x-python",
   "name": "python",
   "nbconvert_exporter": "python",
   "pygments_lexer": "ipython3",
   "version": "3.9.13"
  },
  "widgets": {
   "application/vnd.jupyter.widget-state+json": {
    "state": {},
    "version_major": 2,
    "version_minor": 0
   }
  }
 },
 "nbformat": 4,
 "nbformat_minor": 4
}
